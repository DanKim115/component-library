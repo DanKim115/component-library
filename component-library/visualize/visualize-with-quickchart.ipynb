{
 "cells": [
  {
   "attachments": {},
   "cell_type": "markdown",
   "metadata": {},
   "source": [
    "#### Visualize data on quick-chart\n",
    "This notebook uses the [quickchart](https://quickchart.io/) library to visualize data\n",
    "- one example for random data\n",
    "- second example for visualizing data from mongodb"
   ]
  },
  {
   "cell_type": "code",
   "execution_count": null,
   "metadata": {},
   "outputs": [],
   "source": [
    "!pip install quickchart.io"
   ]
  },
  {
   "cell_type": "code",
   "execution_count": null,
   "metadata": {},
   "outputs": [],
   "source": [
    "from quickchart import QuickChart\n",
    "from PIL import Image\n",
    "import requests\n",
    "from io import BytesIO\n",
    "import matplotlib.pyplot as plt"
   ]
  },
  {
   "cell_type": "code",
   "execution_count": null,
   "metadata": {},
   "outputs": [],
   "source": [
    "# Define your chart data configuration\n",
    "qc = QuickChart()\n",
    "qc.height = 500\n",
    "qc.width = 500\n",
    "qc.config = {\n",
    "    \"type\": \"bar\",\n",
    "    \"data\": {\n",
    "        \"labels\": [\"Sample A\", \"Sample B\"],\n",
    "        \"datasets\": [{\n",
    "            \"label\": \"Sample Bar Chart\",\n",
    "            \"data\": [1, 2]\n",
    "        }]\n",
    "    }\n",
    "}"
   ]
  },
  {
   "cell_type": "code",
   "execution_count": null,
   "metadata": {},
   "outputs": [],
   "source": [
    "# print the chart url\n",
    "print(qc.get_short_url())"
   ]
  },
  {
   "cell_type": "code",
   "execution_count": null,
   "metadata": {},
   "outputs": [],
   "source": [
    "# Or show the chart in this notebook\n",
    "# Send a GET request to the image URL and retrieve the image\n",
    "response = requests.get(qc.get_short_url())\n",
    "image = Image.open(BytesIO(response.content))\n",
    "\n",
    "# Display the image\n",
    "plt.imshow(image)\n",
    "plt.axis('off')\n",
    "plt.show()"
   ]
  }
 ],
 "metadata": {
  "kernelspec": {
   "display_name": "base",
   "language": "python",
   "name": "python3"
  },
  "language_info": {
   "codemirror_mode": {
    "name": "ipython",
    "version": 3
   },
   "file_extension": ".py",
   "mimetype": "text/x-python",
   "name": "python",
   "nbconvert_exporter": "python",
   "pygments_lexer": "ipython3",
   "version": "3.10.9"
  },
  "orig_nbformat": 4
 },
 "nbformat": 4,
 "nbformat_minor": 2
}
