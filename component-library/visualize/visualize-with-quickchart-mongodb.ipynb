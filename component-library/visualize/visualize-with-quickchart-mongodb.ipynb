{
 "cells": [
  {
   "attachments": {},
   "cell_type": "markdown",
   "metadata": {},
   "source": [
    "#### Visualize data on quick-chart\n",
    "This notebook uses the [quickchart](https://quickchart.io/) library to visualize data\n",
    "- one example for random data\n",
    "- second example for visualizing data from mongodb"
   ]
  },
  {
   "cell_type": "code",
   "execution_count": null,
   "metadata": {},
   "outputs": [],
   "source": [
    "!pip install quickchart.io"
   ]
  },
  {
   "cell_type": "code",
   "execution_count": null,
   "metadata": {},
   "outputs": [],
   "source": [
    "from quickchart import QuickChart\n",
    "from PIL import Image\n",
    "import requests\n",
    "from io import BytesIO\n",
    "import matplotlib.pyplot as plt\n",
    "from pymongo import MongoClient"
   ]
  },
  {
   "cell_type": "code",
   "execution_count": null,
   "metadata": {},
   "outputs": [],
   "source": [
    "#Connect with MongoDB\n",
    "#Note Replace <password> with the password for the sampledb user. Replace <your_collection_name> with the name of your collection.\n",
    "url = \"mongodb+srv://sampledb:<password>@cluster0.hb4ewib.mongodb.net/\"\n",
    "\n",
    "# Connect to MongoDB\n",
    "client = MongoClient(url)\n",
    "\n",
    "# Access specific database\n",
    "database = client.sample_weatherdata\n",
    "\n",
    "# Access specific collection\n",
    "collection = database['<your_collection_name>']\n"
   ]
  },
  {
   "cell_type": "code",
   "execution_count": null,
   "metadata": {},
   "outputs": [],
   "source": [
    "# Retrieve all weather data\n",
    "#documents = collection.find()\n",
    "# Or retrieve 100 documents\n",
    "documents = collection.find().limit(100)"
   ]
  },
  {
   "cell_type": "code",
   "execution_count": null,
   "metadata": {},
   "outputs": [],
   "source": [
    "# Initialize empty lists for data extraction\n",
    "temperatures = []\n",
    "pressures = []\n",
    "wind_speeds = []"
   ]
  },
  {
   "cell_type": "code",
   "execution_count": null,
   "metadata": {},
   "outputs": [],
   "source": [
    "# Extract relevant weather data fields\n",
    "for document in documents:\n",
    "    temperatures.append(document['airTemperature']['value'])\n",
    "    pressures.append(document['pressure']['value'])\n",
    "    wind_speeds.append(document['wind']['speed']['rate'])\n"
   ]
  },
  {
   "cell_type": "code",
   "execution_count": null,
   "metadata": {},
   "outputs": [],
   "source": [
    "print(\"Temperatures: \", temperatures)\n",
    "print(\"Pressures: \", pressures)\n",
    "print(\"Wind speeds: \", wind_speeds)"
   ]
  },
  {
   "cell_type": "code",
   "execution_count": null,
   "metadata": {},
   "outputs": [],
   "source": [
    "# Define your chart data configuration\n",
    "qc = QuickChart()\n",
    "qc.height = 500\n",
    "qc.width = 500\n",
    "qc.config = {\n",
    "    'type': 'line',\n",
    "    'data': {\n",
    "        'labels': ['Temperature', 'Pressure', 'Wind Speed'],\n",
    "        'datasets': [\n",
    "            {\n",
    "                'label': 'Temperature',\n",
    "                'data': temperatures,\n",
    "                'backgroundColor': 'rgb(54, 162, 235)'\n",
    "            },\n",
    "            {\n",
    "                'label': 'Pressure',\n",
    "                'data': pressures,\n",
    "                'backgroundColor': 'rgb(75, 192, 192)'\n",
    "            },\n",
    "            {\n",
    "                'label': 'Wind Speed',\n",
    "                'data': wind_speeds,\n",
    "                'backgroundColor': 'rgb(255, 205, 86)'\n",
    "            }\n",
    "        ]\n",
    "    },\n",
    "    'options': {\n",
    "        'scales': {\n",
    "            'y': {\n",
    "                'beginAtZero': True\n",
    "            },\n",
    "            'x': {\n",
    "                'beginAtZero': True\n",
    "            }\n",
    "        }\n",
    "    }\n",
    "}"
   ]
  },
  {
   "cell_type": "code",
   "execution_count": null,
   "metadata": {},
   "outputs": [],
   "source": [
    "# print the chart url\n",
    "print(qc.get_short_url())"
   ]
  },
  {
   "cell_type": "code",
   "execution_count": null,
   "metadata": {},
   "outputs": [],
   "source": [
    "# Or show the chart in this notebook\n",
    "# Send a GET request to the image URL and retrieve the image\n",
    "response = requests.get(qc.get_short_url())\n",
    "image = Image.open(BytesIO(response.content))\n",
    "\n",
    "# Display the image\n",
    "plt.imshow(image)\n",
    "plt.axis('off')\n",
    "plt.show()"
   ]
  }
 ],
 "metadata": {
  "kernelspec": {
   "display_name": "base",
   "language": "python",
   "name": "python3"
  },
  "language_info": {
   "codemirror_mode": {
    "name": "ipython",
    "version": 3
   },
   "file_extension": ".py",
   "mimetype": "text/x-python",
   "name": "python",
   "nbconvert_exporter": "python",
   "pygments_lexer": "ipython3",
   "version": "3.10.9"
  },
  "orig_nbformat": 4
 },
 "nbformat": 4,
 "nbformat_minor": 2
}
