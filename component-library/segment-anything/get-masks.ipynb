{
 "cells": [
  {
   "cell_type": "markdown",
   "id": "e6ac660a-892d-4aae-a936-e65e2b999c28",
   "metadata": {},
   "source": [
    "Segment-Anything"
   ]
  },
  {
   "cell_type": "markdown",
   "id": "9f223aaf-3a0a-4f71-a6e1-4b3de62fe4f6",
   "metadata": {},
   "source": [
    "Get masks from an input image with input prompt. \n",
    "Output an numpy datafile in specified output directory.\n"
   ]
  },
  {
   "cell_type": "code",
   "execution_count": null,
   "id": "d1936b3c-0e07-45d1-85df-4c699aa13a08",
   "metadata": {},
   "outputs": [],
   "source": [
    "!pip install git+https://github.com/facebookresearch/segment-anything.git\n",
    "!pip install opencv-python pycocotools matplotlib onnxruntime onnx"
   ]
  },
  {
   "cell_type": "code",
   "execution_count": null,
   "id": "300597ed-b9dc-4fdb-9cd4-da793c1aa5c5",
   "metadata": {},
   "outputs": [],
   "source": [
    "import logging\n",
    "import os\n",
    "import sys\n",
    "import re\n",
    "import cv2\n",
    "import numpy as np\n",
    "from segment_anything import SamPredictor, sam_model_registry, SamAutomaticMaskGenerator"
   ]
  },
  {
   "cell_type": "code",
   "execution_count": null,
   "id": "29c527c9-ac90-4d98-a152-2b2301588aad",
   "metadata": {},
   "outputs": [],
   "source": [
    "# model type\n",
    "model_type = os.environ.get(\"model_type\", \"vit_h\") # default, vit_h, vit_l or vit_b\n",
    "\n",
    "# checkpoint\n",
    "# different model type requires different check point\n",
    "checkpoint_path = os.environ.get(\"checkpoint_path\")\n",
    "\n",
    "# input image\n",
    "input_image_path = os.environ.get(\"input_image_path\")\n",
    "\n",
    "# input prompts\n",
    "input_prompt = os.environ.get(\"input_prompt\")\n",
    "\n",
    "# temporal data storage for local execution\n",
    "data_dir = os.environ.get('data_dir', '../../data/')\n",
    "\n",
    "# dummy_output (to be fixed once C3 supports < 1 outputs)\n",
    "# output_dummy = os.environ.get('output_dummy', 'output_dummy')"
   ]
  },
  {
   "cell_type": "code",
   "execution_count": null,
   "id": "81032697-8712-4f91-99d5-66351a4341d3",
   "metadata": {},
   "outputs": [],
   "source": [
    "parameters = list(\n",
    "    map(lambda s: re.sub('$', '\"', s),\n",
    "        map(\n",
    "            lambda s: s.replace('=', '=\"'),\n",
    "            filter(\n",
    "                lambda s: s.find('=') > -1 and bool(re.match(r'[A-Za-z0-9_]*=[.\\/A-Za-z0-9]*', s)),\n",
    "                sys.argv\n",
    "            )\n",
    "    )))\n",
    "\n",
    "for parameter in parameters:\n",
    "    logging.warning('Parameter: ' + parameter)\n",
    "    exec(parameter)"
   ]
  },
  {
   "cell_type": "code",
   "execution_count": null,
   "id": "df9f546d-a60e-47b7-b413-a302077dcb92",
   "metadata": {},
   "outputs": [],
   "source": [
    "# get masks from a given prompt\n",
    "device = \"cuda\"\n",
    "sam = sam_model_registry[model_type](checkpoint=checkpoint_path)\n",
    "predictor = SamPredictor(sam)\n",
    "input_image = cv2.imread(input_image_path)\n",
    "predictor.set_image(input_image)\n",
    "\n",
    "prompts = input_prompt.split()\n",
    "masks, _, _ = predictor.predict(prompts)\n",
    "\n",
    "# save result into given directory\n",
    "output_directory, output_filename = os.path.split(data_dir)\n",
    "os.makedirs(output_directory, exist_ok=True)\n",
    "np.save(data_dir, masks)\n",
    "\n",
    "\n",
    "\n"
   ]
  }
 ],
 "metadata": {
  "kernelspec": {
   "display_name": "Python 3 (ipykernel)",
   "language": "python",
   "name": "python3"
  },
  "language_info": {
   "codemirror_mode": {
    "name": "ipython",
    "version": 3
   },
   "file_extension": ".py",
   "mimetype": "text/x-python",
   "name": "python",
   "nbconvert_exporter": "python",
   "pygments_lexer": "ipython3",
   "version": "3.11.3"
  }
 },
 "nbformat": 4,
 "nbformat_minor": 5
}
