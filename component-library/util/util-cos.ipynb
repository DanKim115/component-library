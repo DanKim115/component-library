{
 "cells": [
  {
   "attachments": {},
   "cell_type": "markdown",
   "id": "d00fc083",
   "metadata": {
    "papermill": {
     "duration": 0.002622,
     "end_time": "2022-10-26T08:27:02.102770",
     "exception": false,
     "start_time": "2022-10-26T08:27:02.100148",
     "status": "completed"
    },
    "tags": []
   },
   "source": [
    "# util-cos"
   ]
  },
  {
   "attachments": {},
   "cell_type": "markdown",
   "id": "645dc2c4",
   "metadata": {
    "papermill": {
     "duration": 0.004143,
     "end_time": "2022-10-26T08:27:02.111011",
     "exception": false,
     "start_time": "2022-10-26T08:27:02.106868",
     "status": "completed"
    },
    "tags": []
   },
   "source": [
    "This component provides COS utility functions (e.g. creating a bucket, listing contents of a bucket)\n",
    "\n",
    "Open Issues:\n",
    "- [] make sure endpoint starts with https independent of input start is empty, s3 or s3a\n",
    "- [] make sure there is a / symbol between bucket and path although not specified"
   ]
  },
  {
   "cell_type": "code",
   "execution_count": null,
   "id": "3eeb2d84",
   "metadata": {},
   "outputs": [],
   "source": [
    "!pip install aiobotocore botocore s3fs"
   ]
  },
  {
   "cell_type": "code",
   "execution_count": 1,
   "id": "054a358d",
   "metadata": {
    "papermill": {
     "duration": 0.013833,
     "end_time": "2022-10-26T08:27:04.440049",
     "exception": false,
     "start_time": "2022-10-26T08:27:04.426216",
     "status": "completed"
    },
    "tags": []
   },
   "outputs": [],
   "source": [
    "import logging\n",
    "import os\n",
    "import re\n",
    "import s3fs\n",
    "import sys"
   ]
  },
  {
   "cell_type": "code",
   "execution_count": 2,
   "id": "fcab9b87",
   "metadata": {
    "papermill": {
     "duration": 0.013675,
     "end_time": "2022-10-26T08:27:04.455836",
     "exception": false,
     "start_time": "2022-10-26T08:27:04.442161",
     "status": "completed"
    },
    "tags": []
   },
   "outputs": [],
   "source": [
    "# access key id\n",
    "access_key_id = os.environ.get('access_key_id')\n",
    "#access_key_id='b6fe7fb52e4b47f5ab270f21bc8ba587'\n",
    "\n",
    "# secret access key\n",
    "secret_access_key = os.environ.get('secret_access_key')\n",
    "#secret_access_key='19ed9b2790cd0fe557ed1325a264001d0d14b2728d4d979e'\n",
    "\n",
    "# cos/s3 endpoint\n",
    "endpoint = os.environ.get('endpoint')\n",
    "#endpoint='https://s3.us-east.cloud-object-storage.appdomain.cloud'\n",
    "\n",
    "# cos bucket name\n",
    "bucket_name = os.environ.get('bucket_name')\n",
    "#bucket_name='hls-agb'\n",
    "\n",
    "\n",
    "# path\n",
    "path = os.environ.get('path','')\n",
    "#path='/data/data_external/Texas_Louisiana/'\n",
    "\n",
    "# source in case of uploads\n",
    "source = os.environ.get('source', '')\n",
    "\n",
    "# target in case of downloads\n",
    "target = os.environ.get('target', '')\n",
    "#target = '/home/romeokienzler/Downloads/deleteme/'\n",
    "\n",
    "# recursive\n",
    "recursive = bool(os.environ.get('recursive','False'))\n",
    "\n",
    "# operation (mkdir|ls|find|get|put|rm|sync_to_cos|sync_to_local)\n",
    "operation = os.environ.get('operation')\n",
    "operation='sync_to_local'\n",
    "\n",
    "\n",
    "# log level\n",
    "log_level = os.environ.get('log_level', 'INFO')"
   ]
  },
  {
   "cell_type": "code",
   "execution_count": 3,
   "id": "22c51c11-7c47-4877-92a3-88e071506012",
   "metadata": {
    "papermill": {
     "duration": 0.01535,
     "end_time": "2022-10-26T08:27:04.474938",
     "exception": false,
     "start_time": "2022-10-26T08:27:04.459588",
     "status": "completed"
    },
    "tags": []
   },
   "outputs": [
    {
     "name": "stdout",
     "output_type": "stream",
     "text": [
      "2023-07-04 23:05:22,003 - root - INFO - Logging parameters: \n"
     ]
    }
   ],
   "source": [
    "root = logging.getLogger()\n",
    "root.setLevel(log_level)\n",
    "\n",
    "handler = logging.StreamHandler(sys.stdout)\n",
    "handler.setLevel(log_level)\n",
    "formatter = logging.Formatter('%(asctime)s - %(name)s - %(levelname)s - %(message)s')\n",
    "handler.setFormatter(formatter)\n",
    "root.addHandler(handler)\n",
    "\n",
    "\n",
    "parameters = list(\n",
    "    map(lambda s: re.sub('$', '\"', s),\n",
    "        map(\n",
    "            lambda s: s.replace('=', '=\"'),\n",
    "            filter(\n",
    "                lambda s: s.find('=') > -1 and bool(re.match(r'[A-Za-z0-9_]*=[.\\/A-Za-z0-9]*', s)),\n",
    "                sys.argv\n",
    "            )\n",
    "    )))\n",
    "\n",
    "logging.info('Logging parameters: ' + ''.join(parameters))\n",
    "for parameter in parameters:\n",
    "    logging.info('Parameter: ' + parameter)\n",
    "    exec(parameter)\n",
    "\n",
    "recursive = bool(recursive)"
   ]
  },
  {
   "cell_type": "code",
   "execution_count": 4,
   "id": "b0e2aec4",
   "metadata": {},
   "outputs": [],
   "source": [
    "def print_list(l):\n",
    "    for file in l:\n",
    "        print(file)"
   ]
  },
  {
   "cell_type": "code",
   "execution_count": 5,
   "id": "e552d2e8",
   "metadata": {},
   "outputs": [],
   "source": [
    "def get_all_files(root_directory):\n",
    "    file_list = []\n",
    "    for root, dirs, files in os.walk(root_directory):\n",
    "        for file in files:\n",
    "            file_path = os.path.join(root, file)\n",
    "            if os.path.isfile(file_path):\n",
    "                file_list.append(file_path)\n",
    "    return file_list\n"
   ]
  },
  {
   "cell_type": "code",
   "execution_count": 8,
   "id": "307d42c7-d81b-4bf1-b823-431e7c434631",
   "metadata": {
    "papermill": {
     "duration": 0.965251,
     "end_time": "2022-10-26T08:27:05.463197",
     "exception": false,
     "start_time": "2022-10-26T08:27:04.497946",
     "status": "completed"
    },
    "tags": []
   },
   "outputs": [
    {
     "name": "stdout",
     "output_type": "stream",
     "text": [
      "2023-07-04 23:12:38,232 - root - INFO - processing hls-agb/data/data_external/Texas_Louisiana/FM\n",
      "2023-07-04 23:12:38,236 - root - INFO - skipping directory hls-agb/data/data_external/Texas_Louisiana/FM\n",
      "2023-07-04 23:12:38,237 - root - INFO - processing hls-agb/data/data_external/Texas_Louisiana/Harmonized\n",
      "2023-07-04 23:12:38,240 - root - INFO - skipping directory hls-agb/data/data_external/Texas_Louisiana/Harmonized\n",
      "2023-07-04 23:12:38,242 - root - INFO - processing hls-agb/data/data_external/Texas_Louisiana/ML_DATA\n",
      "2023-07-04 23:12:38,245 - root - INFO - skipping directory hls-agb/data/data_external/Texas_Louisiana/ML_DATA\n",
      "2023-07-04 23:12:38,247 - root - INFO - processing hls-agb/data/data_external/Texas_Louisiana/T14RMS.tar.gz\n",
      "2023-07-04 23:12:38,253 - root - INFO - downloading hls-agb/data/data_external/Texas_Louisiana/T14RMS.tar.gz to /home/romeokienzler/Downloads/deleteme/hls-agb/data/data_external/Texas_Louisiana/T14RMS.tar.gz\n"
     ]
    }
   ],
   "source": [
    "s3 = s3fs.S3FileSystem(\n",
    "    anon=False,\n",
    "    key=access_key_id,\n",
    "    secret=secret_access_key,\n",
    "    client_kwargs={'endpoint_url': endpoint}\n",
    ")\n",
    "\n",
    "if operation == 'mkdir':\n",
    "    s3.mkdir(bucket_name+path)\n",
    "elif operation == 'ls':\n",
    "    print_list(s3.ls(bucket_name+path))\n",
    "elif operation == 'find':\n",
    "    print_list(s3.find(bucket_name+path))\n",
    "elif operation == 'put':\n",
    "    print(s3.put(source,bucket_name+path, recursive=recursive))\n",
    "elif operation == 'sync_to_cos':\n",
    "    for file in get_all_files(source):\n",
    "        logging.info(f'processing {file}')\n",
    "        if s3.exists(bucket_name+file):\n",
    "            logging.info(f'exists {file}')\n",
    "            logging.info(f's3.info {s3.info(bucket_name+file)}')\n",
    "            if s3.info(bucket_name+file)['size'] != os.path.getsize(file):\n",
    "                logging.info(f'uploading {file}')\n",
    "                s3.put(file, bucket_name+file)\n",
    "            else:\n",
    "                logging.info(f'skipping {file}')\n",
    "        else:\n",
    "            logging.info(f'uploading {file}')\n",
    "            s3.put(file, bucket_name+file)\n",
    "elif operation == 'sync_to_local':\n",
    "    for full_path in s3.glob(bucket_name+path):\n",
    "        local_full_path = target+full_path\n",
    "        logging.info(f'processing {full_path}')\n",
    "        if s3.info(full_path)['type'] == 'directory':\n",
    "            logging.info(f'skipping directory {full_path}')\n",
    "            continue\n",
    "        if os.path.exists(local_full_path):\n",
    "            logging.info(f'exists {full_path}')\n",
    "            logging.info(f's3.info {s3.info(full_path)}')\n",
    "            if s3.info(full_path)['size'] != os.path.getsize(local_full_path):\n",
    "                logging.info(f'downloading {full_path} to {local_full_path}')\n",
    "                s3.get(full_path, local_full_path)\n",
    "            else:\n",
    "                logging.info(f'skipping {full_path}')\n",
    "        else:\n",
    "            logging.info(f'downloading {full_path} to {local_full_path}')\n",
    "            s3.get(full_path, local_full_path)\n",
    "elif operation == 'get':\n",
    "    s3.get(bucket_name+path, target, recursive=recursive)\n",
    "elif operation == 'rm':\n",
    "    s3.rm(bucket_name+path, recursive=recursive)\n",
    "else:\n",
    "    logging.error(f'operation unkonwn {operation}')"
   ]
  },
  {
   "cell_type": "code",
   "execution_count": null,
   "id": "f3c1de52",
   "metadata": {},
   "outputs": [],
   "source": []
  }
 ],
 "metadata": {
  "kernelspec": {
   "display_name": "Python 3",
   "language": "python",
   "name": "python3"
  },
  "language_info": {
   "codemirror_mode": {
    "name": "ipython",
    "version": 3
   },
   "file_extension": ".py",
   "mimetype": "text/x-python",
   "name": "python",
   "nbconvert_exporter": "python",
   "pygments_lexer": "ipython3",
   "version": "3.10.11"
  },
  "papermill": {
   "default_parameters": {},
   "duration": 5.223558,
   "end_time": "2022-10-26T08:27:05.697642",
   "environment_variables": {},
   "exception": null,
   "input_path": "/home/romeokienzler/gitco/claimed/component-library/input/input-url.ipynb",
   "output_path": "/home/romeokienzler/gitco/claimed/component-library/input/input-url.ipynb",
   "parameters": {},
   "start_time": "2022-10-26T08:27:00.474084",
   "version": "2.3.3"
  },
  "vscode": {
   "interpreter": {
    "hash": "e7370f93d1d0cde622a1f8e1c04877d8463912d04d973331ad4851f04de6915a"
   }
  }
 },
 "nbformat": 4,
 "nbformat_minor": 5
}
